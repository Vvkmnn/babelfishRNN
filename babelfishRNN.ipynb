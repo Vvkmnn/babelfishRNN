{
 "cells": [
  {
   "cell_type": "markdown",
   "metadata": {},
   "source": [
    "# Language Translation\n",
    "\n",
    "![](http://mjmobbs.com/wp-content/uploads/2010/08/babel.jpg)\n",
    "\n",
    "In this project, you’re going to take a peek into the realm of neural network machine translation.  You’ll be training a sequence to sequence model on a dataset of English and French sentences that can translate new sentences from English to French."
   ]
  },
  {
   "cell_type": "markdown",
   "metadata": {
    "collapsed": true
   },
   "source": [
    "## Get the Data\n",
    "Since translating the whole language of English to French will take lots of time to train, we have provided you with a small portion of the English corpus."
   ]
  },
  {
   "cell_type": "code",
   "execution_count": 2,
   "metadata": {
    "collapsed": true
   },
   "outputs": [],
   "source": [
    "\"\"\"\n",
    "DON'T MODIFY ANYTHING IN THIS CELL\n",
    "\"\"\"\n",
    "import helper\n",
    "import problem_unittests as tests\n",
    "\n",
    "source_path = 'data/small_vocab_en'\n",
    "target_path = 'data/small_vocab_fr'\n",
    "source_text = helper.load_data(source_path)\n",
    "target_text = helper.load_data(target_path)"
   ]
  },
  {
   "cell_type": "markdown",
   "metadata": {},
   "source": [
    "## Explore the Data\n",
    "Play around with view_sentence_range to view different parts of the data."
   ]
  },
  {
   "cell_type": "code",
   "execution_count": 3,
   "metadata": {
    "scrolled": true
   },
   "outputs": [
    {
     "name": "stdout",
     "output_type": "stream",
     "text": [
      "Dataset Stats\n",
      "Roughly the number of unique words: 227\n",
      "Number of sentences: 137861\n",
      "Average number of words in a sentence: 13.225277634719028\n",
      "\n",
      "English sentences 0 to 10:\n",
      "new jersey is sometimes quiet during autumn , and it is snowy in april .\n",
      "the united states is usually chilly during july , and it is usually freezing in november .\n",
      "california is usually quiet during march , and it is usually hot in june .\n",
      "the united states is sometimes mild during june , and it is cold in september .\n",
      "your least liked fruit is the grape , but my least liked is the apple .\n",
      "his favorite fruit is the orange , but my favorite is the grape .\n",
      "paris is relaxing during december , but it is usually chilly in july .\n",
      "new jersey is busy during spring , and it is never hot in march .\n",
      "our least liked fruit is the lemon , but my least liked is the grape .\n",
      "the united states is sometimes busy during january , and it is sometimes warm in november .\n",
      "\n",
      "French sentences 0 to 10:\n",
      "new jersey est parfois calme pendant l' automne , et il est neigeux en avril .\n",
      "les états-unis est généralement froid en juillet , et il gèle habituellement en novembre .\n",
      "california est généralement calme en mars , et il est généralement chaud en juin .\n",
      "les états-unis est parfois légère en juin , et il fait froid en septembre .\n",
      "votre moins aimé fruit est le raisin , mais mon moins aimé est la pomme .\n",
      "son fruit préféré est l'orange , mais mon préféré est le raisin .\n",
      "paris est relaxant en décembre , mais il est généralement froid en juillet .\n",
      "new jersey est occupé au printemps , et il est jamais chaude en mars .\n",
      "notre fruit est moins aimé le citron , mais mon moins aimé est le raisin .\n",
      "les états-unis est parfois occupé en janvier , et il est parfois chaud en novembre .\n"
     ]
    }
   ],
   "source": [
    "view_sentence_range = (0, 10)\n",
    "\n",
    "\"\"\"\n",
    "DON'T MODIFY ANYTHING IN THIS CELL\n",
    "\"\"\"\n",
    "import numpy as np\n",
    "\n",
    "print('Dataset Stats')\n",
    "print('Roughly the number of unique words: {}'.format(len({word: None for word in source_text.split()})))\n",
    "\n",
    "sentences = source_text.split('\\n')\n",
    "word_counts = [len(sentence.split()) for sentence in sentences]\n",
    "print('Number of sentences: {}'.format(len(sentences)))\n",
    "print('Average number of words in a sentence: {}'.format(np.average(word_counts)))\n",
    "\n",
    "print()\n",
    "print('English sentences {} to {}:'.format(*view_sentence_range))\n",
    "print('\\n'.join(source_text.split('\\n')[view_sentence_range[0]:view_sentence_range[1]]))\n",
    "print()\n",
    "print('French sentences {} to {}:'.format(*view_sentence_range))\n",
    "print('\\n'.join(target_text.split('\\n')[view_sentence_range[0]:view_sentence_range[1]]))"
   ]
  },
  {
   "cell_type": "markdown",
   "metadata": {},
   "source": [
    "## Preprocess the Data"
   ]
  },
  {
   "cell_type": "markdown",
   "metadata": {},
   "source": [
    "### Text to Word Ids\n",
    "\n",
    "As you did with other RNNs, you must turn the text into a number so the computer can understand it.\n",
    "\n",
    "In the function `text_to_ids()`, you'll turn `source_text` and `target_text` from words to ids.  However, you need to add the `<EOS>` word id at the end of `target_text`.  This will help the neural network predict when the sentence should end; a bit like punctuation fro human syntax.\n",
    "\n",
    "You can get the `<EOS>` word id by doing: ```python\n",
    "target_vocab_to_int['<EOS>']\n",
    "```\n",
    "You can get other word ids using `source_vocab_to_int` and `target_vocab_to_int`."
   ]
  },
  {
   "cell_type": "code",
   "execution_count": 4,
   "metadata": {},
   "outputs": [
    {
     "name": "stdout",
     "output_type": "stream",
     "text": [
      "Tests Passed\n"
     ]
    }
   ],
   "source": [
    "def text_to_ids(source_text, target_text, source_vocab_to_int,\n",
    "                target_vocab_to_int):\n",
    "    \"\"\"\n",
    "    Convert source and target text to proper word ids\n",
    "    :param source_text: String that contains all the source text.\n",
    "    :param target_text: String that contains all the target text.\n",
    "    :param source_vocab_to_int: Dictionary to go from the source words to an id\n",
    "    :param target_vocab_to_int: Dictionary to go from the target words to an id\n",
    "    :return: A tuple of lists (source_id_text, target_id_text)\n",
    "    \"\"\"\n",
    "    source_sentences = [sentence for sentence in source_text.split('\\n')]\n",
    "    target_sentences = [sentence + ' <EOS>' for sentence in target_text.split('\\n')]\n",
    "\n",
    "    source_id_text = [[source_vocab_to_int[word] for word in sentence.split()]\n",
    "                      for sentence in source_sentences]\n",
    "    target_id_text = [[target_vocab_to_int[word] for word in sentence.split()]\n",
    "                      for sentence in target_sentences]\n",
    "\n",
    "    return source_id_text, target_id_text\n",
    "\n",
    "\n",
    "\"\"\"\n",
    "DON'T MODIFY ANYTHING IN THIS CELL THAT IS BELOW THIS LINE\n",
    "\"\"\"\n",
    "tests.test_text_to_ids(text_to_ids)"
   ]
  },
  {
   "cell_type": "markdown",
   "metadata": {},
   "source": [
    "### Preprocess and Save\n",
    "\n",
    "Running the code cell below will preprocess all the data and save it to file."
   ]
  },
  {
   "cell_type": "code",
   "execution_count": 5,
   "metadata": {
    "collapsed": true
   },
   "outputs": [],
   "source": [
    "\"\"\"\n",
    "DON'T MODIFY ANYTHING IN THIS CELL\n",
    "\"\"\"\n",
    "helper.preprocess_and_save_data(source_path, target_path, text_to_ids)"
   ]
  },
  {
   "cell_type": "markdown",
   "metadata": {},
   "source": [
    "# Check Point\n",
    "This is your first checkpoint. If you ever decide to come back to this notebook or have to restart the notebook, you can start from here. The preprocessed data has been saved to disk."
   ]
  },
  {
   "cell_type": "code",
   "execution_count": 6,
   "metadata": {
    "collapsed": true
   },
   "outputs": [],
   "source": [
    "\"\"\"\n",
    "DON'T MODIFY ANYTHING IN THIS CELL\n",
    "\"\"\"\n",
    "import numpy as np\n",
    "import helper\n",
    "\n",
    "(source_int_text, target_int_text), (source_vocab_to_int, target_vocab_to_int), _ = helper.load_preprocess()"
   ]
  },
  {
   "cell_type": "markdown",
   "metadata": {},
   "source": [
    "### Check the Version of TensorFlow and Access to GPU\n",
    "This will check to make sure you have the correct version of TensorFlow and access to a GPU"
   ]
  },
  {
   "cell_type": "code",
   "execution_count": 7,
   "metadata": {},
   "outputs": [
    {
     "name": "stdout",
     "output_type": "stream",
     "text": [
      "TensorFlow Version: 1.3.0\n"
     ]
    },
    {
     "name": "stderr",
     "output_type": "stream",
     "text": [
      "/Users/v/.anaconda/lib/python3.6/site-packages/ipykernel_launcher.py:15: UserWarning: No GPU found. Please use a GPU to train your neural network.\n",
      "  from ipykernel import kernelapp as app\n"
     ]
    }
   ],
   "source": [
    "\"\"\"\n",
    "DON'T MODIFY ANYTHING IN THIS CELL\n",
    "\"\"\"\n",
    "from distutils.version import LooseVersion\n",
    "import warnings\n",
    "import tensorflow as tf\n",
    "from tensorflow.python.layers.core import Dense\n",
    "\n",
    "# Check TensorFlow Version\n",
    "assert LooseVersion(tf.__version__) >= LooseVersion('1.1'), 'Please use TensorFlow version 1.1 or newer'\n",
    "print('TensorFlow Version: {}'.format(tf.__version__))\n",
    "\n",
    "# Check for a GPU\n",
    "if not tf.test.gpu_device_name():\n",
    "    warnings.warn('No GPU found. Please use a GPU to train your neural network.')\n",
    "else:\n",
    "    print('Default GPU Device: {}'.format(tf.test.gpu_device_name()))"
   ]
  },
  {
   "cell_type": "markdown",
   "metadata": {},
   "source": [
    "## Build the Neural Network\n",
    "You'll build the components necessary to build a Sequence-to-Sequence model by implementing the following functions below:\n",
    "- `model_inputs`\n",
    "- `process_decoder_input`\n",
    "- `encoding_layer`\n",
    "- `decoding_layer_train`\n",
    "- `decoding_layer_infer`\n",
    "- `decoding_layer`\n",
    "- `seq2seq_model`\n",
    "\n",
    "### Input\n",
    "Implement the `model_inputs()` function to create TF Placeholders for the Neural Network. It should create the following placeholders:\n",
    "\n",
    "- Input text placeholder named \"input\" using the TF Placeholder name parameter with rank 2.\n",
    "- Targets placeholder with rank 2.\n",
    "- Learning rate placeholder with rank 0.\n",
    "- Keep probability placeholder named \"keep_prob\" using the TF Placeholder name parameter with rank 0.\n",
    "- Target sequence length placeholder named \"target_sequence_length\" with rank 1\n",
    "- Max target sequence length tensor named \"max_target_len\" getting its value from applying tf.reduce_max on the target_sequence_length placeholder. Rank 0.\n",
    "- Source sequence length placeholder named \"source_sequence_length\" with rank 1\n",
    "\n",
    "Return the placeholders in the following the tuple (input, targets, learning rate, keep probability, target sequence length, max target sequence length, source sequence length)"
   ]
  },
  {
   "cell_type": "code",
   "execution_count": 15,
   "metadata": {
    "scrolled": true
   },
   "outputs": [
    {
     "name": "stdout",
     "output_type": "stream",
     "text": [
      "ERROR:tensorflow:==================================\n",
      "Object was never used (type <class 'tensorflow.python.framework.ops.Operation'>):\n",
      "<tf.Operation 'assert_rank_2/Assert/Assert' type=Assert>\n",
      "If you want to mark it as used call its \"mark_used()\" method.\n",
      "It was originally created here:\n",
      "['File \"/Users/v/.anaconda/lib/python3.6/runpy.py\", line 193, in _run_module_as_main\\n    \"__main__\", mod_spec)', 'File \"/Users/v/.anaconda/lib/python3.6/runpy.py\", line 85, in _run_code\\n    exec(code, run_globals)', 'File \"/Users/v/.anaconda/lib/python3.6/site-packages/ipykernel_launcher.py\", line 16, in <module>\\n    app.launch_new_instance()', 'File \"/Users/v/.anaconda/lib/python3.6/site-packages/traitlets/config/application.py\", line 658, in launch_instance\\n    app.start()', 'File \"/Users/v/.anaconda/lib/python3.6/site-packages/ipykernel/kernelapp.py\", line 477, in start\\n    ioloop.IOLoop.instance().start()', 'File \"/Users/v/.anaconda/lib/python3.6/site-packages/zmq/eventloop/ioloop.py\", line 177, in start\\n    super(ZMQIOLoop, self).start()', 'File \"/Users/v/.anaconda/lib/python3.6/site-packages/tornado/ioloop.py\", line 888, in start\\n    handler_func(fd_obj, events)', 'File \"/Users/v/.anaconda/lib/python3.6/site-packages/tornado/stack_context.py\", line 277, in null_wrapper\\n    return fn(*args, **kwargs)', 'File \"/Users/v/.anaconda/lib/python3.6/site-packages/zmq/eventloop/zmqstream.py\", line 440, in _handle_events\\n    self._handle_recv()', 'File \"/Users/v/.anaconda/lib/python3.6/site-packages/zmq/eventloop/zmqstream.py\", line 472, in _handle_recv\\n    self._run_callback(callback, msg)', 'File \"/Users/v/.anaconda/lib/python3.6/site-packages/zmq/eventloop/zmqstream.py\", line 414, in _run_callback\\n    callback(*args, **kwargs)', 'File \"/Users/v/.anaconda/lib/python3.6/site-packages/tornado/stack_context.py\", line 277, in null_wrapper\\n    return fn(*args, **kwargs)', 'File \"/Users/v/.anaconda/lib/python3.6/site-packages/ipykernel/kernelbase.py\", line 283, in dispatcher\\n    return self.dispatch_shell(stream, msg)', 'File \"/Users/v/.anaconda/lib/python3.6/site-packages/ipykernel/kernelbase.py\", line 235, in dispatch_shell\\n    handler(stream, idents, msg)', 'File \"/Users/v/.anaconda/lib/python3.6/site-packages/ipykernel/kernelbase.py\", line 399, in execute_request\\n    user_expressions, allow_stdin)', 'File \"/Users/v/.anaconda/lib/python3.6/site-packages/ipykernel/ipkernel.py\", line 196, in do_execute\\n    res = shell.run_cell(code, store_history=store_history, silent=silent)', 'File \"/Users/v/.anaconda/lib/python3.6/site-packages/ipykernel/zmqshell.py\", line 533, in run_cell\\n    return super(ZMQInteractiveShell, self).run_cell(*args, **kwargs)', 'File \"/Users/v/.anaconda/lib/python3.6/site-packages/IPython/core/interactiveshell.py\", line 2717, in run_cell\\n    interactivity=interactivity, compiler=compiler, result=result)', 'File \"/Users/v/.anaconda/lib/python3.6/site-packages/IPython/core/interactiveshell.py\", line 2827, in run_ast_nodes\\n    if self.run_code(code, result):', 'File \"/Users/v/.anaconda/lib/python3.6/site-packages/IPython/core/interactiveshell.py\", line 2881, in run_code\\n    exec(code_obj, self.user_global_ns, self.user_ns)', 'File \"<ipython-input-15-766e94c635c9>\", line 20, in <module>\\n    tests.test_model_inputs(model_inputs)', 'File \"/Users/v/Documents/udacity/projects/language-translation/problem_unittests.py\", line 106, in test_model_inputs\\n    assert tf.assert_rank(lr, 0, message=\\'Learning Rate has wrong rank\\')', 'File \"/Users/v/.anaconda/lib/python3.6/site-packages/tensorflow/python/ops/check_ops.py\", line 617, in assert_rank\\n    dynamic_condition, data, summarize)', 'File \"/Users/v/.anaconda/lib/python3.6/site-packages/tensorflow/python/ops/check_ops.py\", line 571, in _assert_rank_condition\\n    return control_flow_ops.Assert(condition, data, summarize=summarize)', 'File \"/Users/v/.anaconda/lib/python3.6/site-packages/tensorflow/python/util/tf_should_use.py\", line 175, in wrapped\\n    return _add_should_use_warning(fn(*args, **kwargs))', 'File \"/Users/v/.anaconda/lib/python3.6/site-packages/tensorflow/python/util/tf_should_use.py\", line 144, in _add_should_use_warning\\n    wrapped = TFShouldUseWarningWrapper(x)', 'File \"/Users/v/.anaconda/lib/python3.6/site-packages/tensorflow/python/util/tf_should_use.py\", line 101, in __init__\\n    stack = [s.strip() for s in traceback.format_stack()]']\n",
      "==================================\n",
      "ERROR:tensorflow:==================================\n",
      "Object was never used (type <class 'tensorflow.python.framework.ops.Operation'>):\n",
      "<tf.Operation 'assert_rank_3/Assert/Assert' type=Assert>\n",
      "If you want to mark it as used call its \"mark_used()\" method.\n",
      "It was originally created here:\n",
      "['File \"/Users/v/.anaconda/lib/python3.6/runpy.py\", line 193, in _run_module_as_main\\n    \"__main__\", mod_spec)', 'File \"/Users/v/.anaconda/lib/python3.6/runpy.py\", line 85, in _run_code\\n    exec(code, run_globals)', 'File \"/Users/v/.anaconda/lib/python3.6/site-packages/ipykernel_launcher.py\", line 16, in <module>\\n    app.launch_new_instance()', 'File \"/Users/v/.anaconda/lib/python3.6/site-packages/traitlets/config/application.py\", line 658, in launch_instance\\n    app.start()', 'File \"/Users/v/.anaconda/lib/python3.6/site-packages/ipykernel/kernelapp.py\", line 477, in start\\n    ioloop.IOLoop.instance().start()', 'File \"/Users/v/.anaconda/lib/python3.6/site-packages/zmq/eventloop/ioloop.py\", line 177, in start\\n    super(ZMQIOLoop, self).start()', 'File \"/Users/v/.anaconda/lib/python3.6/site-packages/tornado/ioloop.py\", line 888, in start\\n    handler_func(fd_obj, events)', 'File \"/Users/v/.anaconda/lib/python3.6/site-packages/tornado/stack_context.py\", line 277, in null_wrapper\\n    return fn(*args, **kwargs)', 'File \"/Users/v/.anaconda/lib/python3.6/site-packages/zmq/eventloop/zmqstream.py\", line 440, in _handle_events\\n    self._handle_recv()', 'File \"/Users/v/.anaconda/lib/python3.6/site-packages/zmq/eventloop/zmqstream.py\", line 472, in _handle_recv\\n    self._run_callback(callback, msg)', 'File \"/Users/v/.anaconda/lib/python3.6/site-packages/zmq/eventloop/zmqstream.py\", line 414, in _run_callback\\n    callback(*args, **kwargs)', 'File \"/Users/v/.anaconda/lib/python3.6/site-packages/tornado/stack_context.py\", line 277, in null_wrapper\\n    return fn(*args, **kwargs)', 'File \"/Users/v/.anaconda/lib/python3.6/site-packages/ipykernel/kernelbase.py\", line 283, in dispatcher\\n    return self.dispatch_shell(stream, msg)', 'File \"/Users/v/.anaconda/lib/python3.6/site-packages/ipykernel/kernelbase.py\", line 235, in dispatch_shell\\n    handler(stream, idents, msg)', 'File \"/Users/v/.anaconda/lib/python3.6/site-packages/ipykernel/kernelbase.py\", line 399, in execute_request\\n    user_expressions, allow_stdin)', 'File \"/Users/v/.anaconda/lib/python3.6/site-packages/ipykernel/ipkernel.py\", line 196, in do_execute\\n    res = shell.run_cell(code, store_history=store_history, silent=silent)', 'File \"/Users/v/.anaconda/lib/python3.6/site-packages/ipykernel/zmqshell.py\", line 533, in run_cell\\n    return super(ZMQInteractiveShell, self).run_cell(*args, **kwargs)', 'File \"/Users/v/.anaconda/lib/python3.6/site-packages/IPython/core/interactiveshell.py\", line 2717, in run_cell\\n    interactivity=interactivity, compiler=compiler, result=result)', 'File \"/Users/v/.anaconda/lib/python3.6/site-packages/IPython/core/interactiveshell.py\", line 2827, in run_ast_nodes\\n    if self.run_code(code, result):', 'File \"/Users/v/.anaconda/lib/python3.6/site-packages/IPython/core/interactiveshell.py\", line 2881, in run_code\\n    exec(code_obj, self.user_global_ns, self.user_ns)', 'File \"<ipython-input-15-766e94c635c9>\", line 20, in <module>\\n    tests.test_model_inputs(model_inputs)', 'File \"/Users/v/Documents/udacity/projects/language-translation/problem_unittests.py\", line 107, in test_model_inputs\\n    assert tf.assert_rank(keep_prob, 0, message=\\'Keep Probability has wrong rank\\')', 'File \"/Users/v/.anaconda/lib/python3.6/site-packages/tensorflow/python/ops/check_ops.py\", line 617, in assert_rank\\n    dynamic_condition, data, summarize)', 'File \"/Users/v/.anaconda/lib/python3.6/site-packages/tensorflow/python/ops/check_ops.py\", line 571, in _assert_rank_condition\\n    return control_flow_ops.Assert(condition, data, summarize=summarize)', 'File \"/Users/v/.anaconda/lib/python3.6/site-packages/tensorflow/python/util/tf_should_use.py\", line 175, in wrapped\\n    return _add_should_use_warning(fn(*args, **kwargs))', 'File \"/Users/v/.anaconda/lib/python3.6/site-packages/tensorflow/python/util/tf_should_use.py\", line 144, in _add_should_use_warning\\n    wrapped = TFShouldUseWarningWrapper(x)', 'File \"/Users/v/.anaconda/lib/python3.6/site-packages/tensorflow/python/util/tf_should_use.py\", line 101, in __init__\\n    stack = [s.strip() for s in traceback.format_stack()]']\n",
      "==================================\n"
     ]
    },
    {
     "name": "stdout",
     "output_type": "stream",
     "text": [
      "Tests Passed\n"
     ]
    }
   ],
   "source": [
    "def model_inputs():\n",
    "    \"\"\"\n",
    "    Create TF Placeholders for input, targets, learning rate, and lengths of source and target sequences.\n",
    "    :return: Tuple (input, targets, learning rate, keep probability, target sequence length,\n",
    "    max target sequence length, source sequence length)\n",
    "    \"\"\"\n",
    "    input_ = tf.placeholder(shape=[None, None], name='input', dtype=tf.int32)\n",
    "    targets = tf.placeholder(shape=[None, None], name='targets', dtype=tf.int32)\n",
    "    learning_rate = tf.placeholder(name='learning_rate', dtype=tf.float32)\n",
    "    keep_probabilities = tf.placeholder(name='keep_prob', dtype=tf.float32)\n",
    "    target_sequence_length = tf.placeholder(shape=[None], name='target_sequence_length', dtype=tf.int32)\n",
    "    max_target_length = tf.reduce_max(target_sequence_length, name='max_target_len')\n",
    "    source_sequence_length = tf.placeholder(shape=[None], name='source_sequence_length', dtype=tf.int32)\n",
    "    \n",
    "    return input_, targets, learning_rate, keep_probabilities, target_sequence_length, max_target_length, source_sequence_length\n",
    "\n",
    "\"\"\"\n",
    "DON'T MODIFY ANYTHING IN THIS CELL THAT IS BELOW THIS LINE\n",
    "\"\"\"\n",
    "tests.test_model_inputs(model_inputs)"
   ]
  },
  {
   "cell_type": "markdown",
   "metadata": {},
   "source": [
    "### Process Decoder Input\n",
    "Implement `process_decoder_input` by removing the last word id from each batch in `target_data` and concat the GO ID to the begining of each batch."
   ]
  },
  {
   "cell_type": "code",
   "execution_count": 18,
   "metadata": {},
   "outputs": [
    {
     "name": "stdout",
     "output_type": "stream",
     "text": [
      "Tests Passed\n"
     ]
    }
   ],
   "source": [
    "def process_decoder_input(target_data, target_vocab_to_int, batch_size):\n",
    "    \"\"\"\n",
    "    Preprocess target data for encoding\n",
    "    :param target_data: Target Placehoder\n",
    "    :param target_vocab_to_int: Dictionary to go from the target words to an id\n",
    "    :param batch_size: Batch Size\n",
    "    :return: Preprocessed target data\n",
    "    \"\"\"\n",
    "    ending = tf.strided_slice(target_data, [0, 0], [batch_size, -1], [1, 1]) # Strides\n",
    "    encoded_data = tf.concat([tf.fill([batch_size, 1], target_vocab_to_int['<GO>']), ending], 1) # Fill batch size, append <GO> and set dim to 1\n",
    "    \n",
    "    return encoded_data\n",
    "\n",
    "\"\"\"\n",
    "DON'T MODIFY ANYTHING IN THIS CELL THAT IS BELOW THIS LINE\n",
    "\"\"\"\n",
    "tests.test_process_encoding_input(process_decoder_input)"
   ]
  },
  {
   "cell_type": "markdown",
   "metadata": {},
   "source": [
    "### Encoding\n",
    "Implement `encoding_layer()` to create a Encoder RNN layer:\n",
    " * Embed the encoder input using [`tf.contrib.layers.embed_sequence`](https://www.tensorflow.org/api_docs/python/tf/contrib/layers/embed_sequence)\n",
    " * Construct a [stacked](https://github.com/tensorflow/tensorflow/blob/6947f65a374ebf29e74bb71e36fd82760056d82c/tensorflow/docs_src/tutorials/recurrent.md#stacking-multiple-lstms) [`tf.contrib.rnn.LSTMCell`](https://www.tensorflow.org/api_docs/python/tf/contrib/rnn/LSTMCell) wrapped in a [`tf.contrib.rnn.DropoutWrapper`](https://www.tensorflow.org/api_docs/python/tf/contrib/rnn/DropoutWrapper)\n",
    " * Pass cell and embedded input to [`tf.nn.dynamic_rnn()`](https://www.tensorflow.org/api_docs/python/tf/nn/dynamic_rnn)"
   ]
  },
  {
   "cell_type": "code",
   "execution_count": 21,
   "metadata": {
    "scrolled": false
   },
   "outputs": [
    {
     "name": "stdout",
     "output_type": "stream",
     "text": [
      "Tests Passed\n"
     ]
    }
   ],
   "source": [
    "from imp import reload\n",
    "reload(tests)\n",
    "\n",
    "def encoding_layer(rnn_inputs, rnn_size, num_layers, keep_prob, \n",
    "                   source_sequence_length, source_vocab_size, \n",
    "                   encoding_embedding_size):\n",
    "    \"\"\"\n",
    "    Create encoding layer\n",
    "    :param rnn_inputs: Inputs for the RNN\n",
    "    :param rnn_size: RNN Size\n",
    "    :param num_layers: Number of layers\n",
    "    :param keep_prob: Dropout keep probability\n",
    "    :param source_sequence_length: a list of the lengths of each sequence in the batch\n",
    "    :param source_vocab_size: vocabulary size of source data\n",
    "    :param encoding_embedding_size: embedding size of source data\n",
    "    :return: tuple (RNN output, RNN state)\n",
    "    \"\"\"\n",
    "    # Embed and encode data\n",
    "    enc_embedded_input = tf.contrib.layers.embed_sequence(rnn_inputs, source_vocab_size, encoding_embedding_size)\n",
    "    \n",
    "    # DEfine RNN cell\n",
    "    def make_cell(rnn_size):\n",
    "        enc_cell = tf.contrib.rnn.LSTMCell(rnn_size,\n",
    "                                           initializer=tf.random_uniform_initializer(-0.1, 0.1, seed=2)) # Set seed and uniform distribution for same defaults\n",
    "        \n",
    "        dropout_layer = tf.contrib.rnn.DropoutWrapper(enc_cell, keep_prob) # Dropout wrapper? Handy!\n",
    "        return dropout_layer # Return as the dropout layer\n",
    "\n",
    "    enc_cell = tf.contrib.rnn.MultiRNNCell([make_cell(rnn_size) for _ in range(num_layers)]) # Encode Multicell by making a cell for layer depthr equired\n",
    "    \n",
    "    enc_output, enc_state = tf.nn.dynamic_rnn(enc_cell, enc_embedded_input, sequence_length=source_sequence_length, dtype=tf.float32) # Encoded output and state\n",
    "    \n",
    "    return enc_output, enc_state\n",
    "\n",
    "\"\"\"\n",
    "DON'T MODIFY ANYTHING IN THIS CELL THAT IS BELOW THIS LINE\n",
    "\"\"\"\n",
    "tests.test_encoding_layer(encoding_layer)"
   ]
  },
  {
   "cell_type": "markdown",
   "metadata": {},
   "source": [
    "### Decoding - Training\n",
    "Create a training decoding layer:\n",
    "* Create a [`tf.contrib.seq2seq.TrainingHelper`](https://www.tensorflow.org/api_docs/python/tf/contrib/seq2seq/TrainingHelper) \n",
    "* Create a [`tf.contrib.seq2seq.BasicDecoder`](https://www.tensorflow.org/api_docs/python/tf/contrib/seq2seq/BasicDecoder)\n",
    "* Obtain the decoder outputs from [`tf.contrib.seq2seq.dynamic_decode`](https://www.tensorflow.org/api_docs/python/tf/contrib/seq2seq/dynamic_decode)"
   ]
  },
  {
   "cell_type": "code",
   "execution_count": 22,
   "metadata": {},
   "outputs": [
    {
     "name": "stdout",
     "output_type": "stream",
     "text": [
      "Tests Passed\n"
     ]
    }
   ],
   "source": [
    "def decoding_layer_train(encoder_state, dec_cell, dec_embed_input,\n",
    "                         target_sequence_length, max_summary_length,\n",
    "                         output_layer, keep_prob):\n",
    "    \"\"\"\n",
    "    Create a decoding layer for training\n",
    "    :param encoder_state: Encoder State\n",
    "    :param dec_cell: Decoder RNN Cell\n",
    "    :param dec_embed_input: Decoder embedded input\n",
    "    :param target_sequence_length: The lengths of each sequence in the target batch\n",
    "    :param max_summary_length: The length of the longest sequence in the batch\n",
    "    :param output_layer: Function to apply the output layer\n",
    "    :param keep_prob: Dropout keep probability\n",
    "    :return: BasicDecoderOutput containing training logits and sample_id\n",
    "    \"\"\"\n",
    "    training_helper = tf.contrib.seq2seq.TrainingHelper(\n",
    "        inputs=dec_embed_input,\n",
    "        sequence_length=target_sequence_length,\n",
    "        time_major=False) # tf.contrib has some really crazy stuff in it...\n",
    "\n",
    "    # Basic decoder\n",
    "    training_decoder = tf.contrib.seq2seq.BasicDecoder(\n",
    "        dec_cell, training_helper, encoder_state, output_layer)\n",
    "\n",
    "    # Perform dynamic decoding using the decoder\n",
    "    training_decoder_output = tf.contrib.seq2seq.dynamic_decode(\n",
    "        training_decoder,\n",
    "        impute_finished=True,\n",
    "        maximum_iterations=max_summary_length)[0] \n",
    "    return training_decoder_output\n",
    "\n",
    "\n",
    "\"\"\"\n",
    "DON'T MODIFY ANYTHING IN THIS CELL THAT IS BELOW THIS LINE\n",
    "\"\"\"\n",
    "tests.test_decoding_layer_train(decoding_layer_train)"
   ]
  },
  {
   "cell_type": "markdown",
   "metadata": {},
   "source": [
    "### Decoding - Inference\n",
    "Create inference decoder:\n",
    "* Create a [`tf.contrib.seq2seq.GreedyEmbeddingHelper`](https://www.tensorflow.org/api_docs/python/tf/contrib/seq2seq/GreedyEmbeddingHelper)\n",
    "* Create a [`tf.contrib.seq2seq.BasicDecoder`](https://www.tensorflow.org/api_docs/python/tf/contrib/seq2seq/BasicDecoder)\n",
    "* Obtain the decoder outputs from [`tf.contrib.seq2seq.dynamic_decode`](https://www.tensorflow.org/api_docs/python/tf/contrib/seq2seq/dynamic_decode)"
   ]
  },
  {
   "cell_type": "code",
   "execution_count": 24,
   "metadata": {
    "scrolled": true
   },
   "outputs": [
    {
     "name": "stdout",
     "output_type": "stream",
     "text": [
      "Tests Passed\n"
     ]
    }
   ],
   "source": [
    "def decoding_layer_infer(encoder_state, dec_cell, dec_embeddings,\n",
    "                         start_of_sequence_id, end_of_sequence_id,\n",
    "                         max_target_sequence_length, vocab_size, output_layer,\n",
    "                         batch_size, keep_prob):\n",
    "    \"\"\"\n",
    "    Create a decoding layer for inference\n",
    "    :param encoder_state: Encoder state\n",
    "    :param dec_cell: Decoder RNN Cell\n",
    "    :param dec_embeddings: Decoder embeddings\n",
    "    :param start_of_sequence_id: GO ID\n",
    "    :param end_of_sequence_id: EOS Id\n",
    "    :param max_target_sequence_length: Maximum length of target sequences\n",
    "    :param vocab_size: Size of decoder/target vocabulary\n",
    "    :param decoding_scope: TenorFlow Variable Scope for decoding\n",
    "    :param output_layer: Function to apply the output layer\n",
    "    :param batch_size: Batch size\n",
    "    :param keep_prob: Dropout keep probability\n",
    "    :return: BasicDecoderOutput containing inference logits and sample_id\n",
    "    \"\"\"\n",
    "    \n",
    "    # Start tokens for the decoder\n",
    "    start_tokens = tf.tile(\n",
    "        tf.constant([start_of_sequence_id], dtype=tf.int32), [batch_size],\n",
    "        name='start_tokens')\n",
    "\n",
    "    # Helper for the inference process.\n",
    "    inference_helper = tf.contrib.seq2seq.GreedyEmbeddingHelper(\n",
    "        dec_embeddings, start_tokens, end_of_sequence_id)\n",
    "\n",
    "    # Basic decoder\n",
    "    inference_decoder = tf.contrib.seq2seq.BasicDecoder(\n",
    "        dec_cell, inference_helper, encoder_state, output_layer)\n",
    "\n",
    "    # Perform dynamic decoding using the decoder\n",
    "    inference_decoder_output = tf.contrib.seq2seq.dynamic_decode(\n",
    "        inference_decoder,\n",
    "        impute_finished=True,\n",
    "        maximum_iterations=max_target_sequence_length)[0]\n",
    "\n",
    "    return inference_decoder_output\n",
    "\n",
    "\n",
    "\"\"\"\n",
    "DON'T MODIFY ANYTHING IN THIS CELL THAT IS BELOW THIS LINE\n",
    "\"\"\"\n",
    "tests.test_decoding_layer_infer(decoding_layer_infer)"
   ]
  },
  {
   "cell_type": "markdown",
   "metadata": {},
   "source": [
    "### Build the Decoding Layer\n",
    "Implement `decoding_layer()` to create a Decoder RNN layer.\n",
    "\n",
    "* Embed the target sequences\n",
    "* Construct the decoder LSTM cell (just like you constructed the encoder cell above)\n",
    "* Create an output layer to map the outputs of the decoder to the elements of our vocabulary\n",
    "* Use the your `decoding_layer_train(encoder_state, dec_cell, dec_embed_input, target_sequence_length, max_target_sequence_length, output_layer, keep_prob)` function to get the training logits.\n",
    "* Use your `decoding_layer_infer(encoder_state, dec_cell, dec_embeddings, start_of_sequence_id, end_of_sequence_id, max_target_sequence_length, vocab_size, output_layer, batch_size, keep_prob)` function to get the inference logits.\n",
    "\n",
    "Note: You'll need to use [tf.variable_scope](https://www.tensorflow.org/api_docs/python/tf/variable_scope) to share variables between training and inference."
   ]
  },
  {
   "cell_type": "code",
   "execution_count": 26,
   "metadata": {},
   "outputs": [
    {
     "name": "stdout",
     "output_type": "stream",
     "text": [
      "Tests Passed\n"
     ]
    }
   ],
   "source": [
    "def decoding_layer(dec_input, encoder_state,\n",
    "                   target_sequence_length, max_target_sequence_length,\n",
    "                   rnn_size,\n",
    "                   num_layers, target_vocab_to_int, target_vocab_size,\n",
    "                   batch_size, keep_prob, decoding_embedding_size):\n",
    "    \"\"\"\n",
    "    Create decoding layer\n",
    "    :param dec_input: Decoder input\n",
    "    :param encoder_state: Encoder state\n",
    "    :param target_sequence_length: The lengths of each sequence in the target batch\n",
    "    :param max_target_sequence_length: Maximum length of target sequences\n",
    "    :param rnn_size: RNN Size\n",
    "    :param num_layers: Number of layers\n",
    "    :param target_vocab_to_int: Dictionary to go from the target words to an id\n",
    "    :param target_vocab_size: Size of target vocabulary\n",
    "    :param batch_size: The size of the batch\n",
    "    :param keep_prob: Dropout keep probability\n",
    "    :return: Tuple of (Training BasicDecoderOutput, Inference BasicDecoderOutput)\n",
    "    \"\"\"\n",
    "    # Decoder Embedding\n",
    "    dec_embeddings = tf.Variable(tf.random_uniform([target_vocab_size, decoding_embedding_size]))\n",
    "    dec_embed_input = tf.nn.embedding_lookup(dec_embeddings, dec_input)\n",
    "\n",
    "    # Construct the decoder cell\n",
    "    def make_cell(rnn_size):\n",
    "        dec_cell = tf.contrib.rnn.LSTMCell(rnn_size,\n",
    "                                           initializer=tf.random_uniform_initializer(-0.1, 0.1, seed=2))\n",
    "        dropout_layer = tf.contrib.rnn.DropoutWrapper(dec_cell, keep_prob)\n",
    "        return dropout_layer\n",
    "\n",
    "    dec_cell = tf.contrib.rnn.MultiRNNCell([make_cell(rnn_size) for _ in range(num_layers)])\n",
    "    \n",
    "    # Dense layer to translate the decoder's output at each time \n",
    "    # step into a choice from the target vocabulary\n",
    "    output_layer = Dense(target_vocab_size,\n",
    "                         kernel_initializer = tf.truncated_normal_initializer(mean = 0.0, stddev=0.1))\n",
    "    \n",
    "    with tf.variable_scope(\"decode\"):\n",
    "        decoding_train = decoding_layer_train(encoder_state, dec_cell, dec_embed_input, \n",
    "                         target_sequence_length, max_target_sequence_length, \n",
    "                         output_layer, keep_prob)\n",
    "        \n",
    "    with tf.variable_scope(\"decode\", reuse=True):\n",
    "        decoding_infer = decoding_layer_infer(encoder_state, dec_cell, dec_embeddings, target_vocab_to_int['<GO>'],\n",
    "                          target_vocab_to_int['<EOS>'], max_target_sequence_length,\n",
    "                         target_vocab_size, output_layer, batch_size, keep_prob)\n",
    "    \n",
    "    return decoding_train, decoding_infer\n",
    "\n",
    "\n",
    "\"\"\"\n",
    "DON'T MODIFY ANYTHING IN THIS CELL THAT IS BELOW THIS LINE\n",
    "\"\"\"\n",
    "tests.test_decoding_layer(decoding_layer)"
   ]
  },
  {
   "cell_type": "markdown",
   "metadata": {},
   "source": [
    "### Build the Neural Network\n",
    "Apply the functions you implemented above to:\n",
    "\n",
    "- Apply embedding to the input data for the encoder.\n",
    "- Encode the input using your `encoding_layer(rnn_inputs, rnn_size, num_layers, keep_prob,  source_sequence_length, source_vocab_size, encoding_embedding_size)`.\n",
    "- Process target data using your `process_decoder_input(target_data, target_vocab_to_int, batch_size)` function.\n",
    "- Apply embedding to the target data for the decoder.\n",
    "- Decode the encoded input using your `decoding_layer(dec_input, enc_state, target_sequence_length, max_target_sentence_length, rnn_size, num_layers, target_vocab_to_int, target_vocab_size, batch_size, keep_prob, dec_embedding_size)` function."
   ]
  },
  {
   "cell_type": "code",
   "execution_count": 27,
   "metadata": {},
   "outputs": [
    {
     "name": "stdout",
     "output_type": "stream",
     "text": [
      "Tests Passed\n"
     ]
    }
   ],
   "source": [
    "def seq2seq_model(input_data, target_data, keep_prob, batch_size,\n",
    "                  source_sequence_length, target_sequence_length,\n",
    "                  max_target_sentence_length, source_vocab_size,\n",
    "                  target_vocab_size, enc_embedding_size, dec_embedding_size,\n",
    "                  rnn_size, num_layers, target_vocab_to_int):\n",
    "    \"\"\"\n",
    "    Build the Sequence-to-Sequence part of the neural network\n",
    "    :param input_data: Input placeholder\n",
    "    :param target_data: Target placeholder\n",
    "    :param keep_prob: Dropout keep probability placeholder\n",
    "    :param batch_size: Batch Size\n",
    "    :param source_sequence_length: Sequence Lengths of source sequences in the batch\n",
    "    :param target_sequence_length: Sequence Lengths of target sequences in the batch\n",
    "    :param source_vocab_size: Source vocabulary size\n",
    "    :param target_vocab_size: Target vocabulary size\n",
    "    :param enc_embedding_size: Decoder embedding size\n",
    "    :param dec_embedding_size: Encoder embedding size\n",
    "    :param rnn_size: RNN Size\n",
    "    :param num_layers: Number of layers\n",
    "    :param target_vocab_to_int: Dictionary to go from the target words to an id\n",
    "    :return: Tuple of (Training BasicDecoderOutput, Inference BasicDecoderOutput)\n",
    "    \"\"\"\n",
    "    # Pass the input data through the encoder. We'll ignore the encoder output, but use the state\n",
    "    _, enc_state = encoding_layer(input_data, rnn_size, num_layers, keep_prob,\n",
    "                                  source_sequence_length, source_vocab_size,\n",
    "                                  enc_embedding_size)\n",
    "\n",
    "    # Prepare the target sequences we'll feed to the decoder in training mode\n",
    "    dec_input = process_decoder_input(target_data, target_vocab_to_int,\n",
    "                                      batch_size)\n",
    "\n",
    "    # Pass encoder state and decoder inputs to the decoders\n",
    "    training_decoder_output, inference_decoder_output = decoding_layer(\n",
    "        dec_input, enc_state, target_sequence_length,\n",
    "        max_target_sentence_length, rnn_size, num_layers, target_vocab_to_int,\n",
    "        target_vocab_size, batch_size, keep_prob, dec_embedding_size)\n",
    "\n",
    "    return training_decoder_output, inference_decoder_output\n",
    "\n",
    "\n",
    "\"\"\"\n",
    "DON'T MODIFY ANYTHING IN THIS CELL THAT IS BELOW THIS LINE\n",
    "\"\"\"\n",
    "tests.test_seq2seq_model(seq2seq_model)"
   ]
  },
  {
   "cell_type": "markdown",
   "metadata": {},
   "source": [
    "## Neural Network Training\n",
    "### Hyperparameters\n",
    "Tune the following parameters:\n",
    "\n",
    "- Set `epochs` to the number of epochs.\n",
    "- Set `batch_size` to the batch size.\n",
    "- Set `rnn_size` to the size of the RNNs.\n",
    "- Set `num_layers` to the number of layers.\n",
    "- Set `encoding_embedding_size` to the size of the embedding for the encoder.\n",
    "- Set `decoding_embedding_size` to the size of the embedding for the decoder.\n",
    "- Set `learning_rate` to the learning rate.\n",
    "- Set `keep_probability` to the Dropout keep probability\n",
    "- Set `display_step` to state how many steps between each debug output statement"
   ]
  },
  {
   "cell_type": "code",
   "execution_count": 28,
   "metadata": {
    "collapsed": true
   },
   "outputs": [],
   "source": [
    "# Number of Epochs\n",
    "epochs = 5\n",
    "# Batch Size\n",
    "batch_size = 128\n",
    "# RNN Size\n",
    "rnn_size = 256\n",
    "# Number of Layers\n",
    "num_layers = 2\n",
    "# Embedding Size\n",
    "encoding_embedding_size = 256\n",
    "decoding_embedding_size = 256\n",
    "# Learning Rate\n",
    "learning_rate = 0.005\n",
    "# Dropout Keep Probability\n",
    "keep_probability = 0.5\n",
    "display_step = 30"
   ]
  },
  {
   "cell_type": "markdown",
   "metadata": {},
   "source": [
    "### Build the Graph\n",
    "Build the graph using the neural network you implemented."
   ]
  },
  {
   "cell_type": "code",
   "execution_count": 29,
   "metadata": {
    "collapsed": true
   },
   "outputs": [],
   "source": [
    "\"\"\"\n",
    "DON'T MODIFY ANYTHING IN THIS CELL\n",
    "\"\"\"\n",
    "save_path = 'checkpoints/dev'\n",
    "(source_int_text, target_int_text), (source_vocab_to_int, target_vocab_to_int), _ = helper.load_preprocess()\n",
    "max_target_sentence_length = max([len(sentence) for sentence in source_int_text])\n",
    "\n",
    "train_graph = tf.Graph()\n",
    "with train_graph.as_default():\n",
    "    input_data, targets, lr, keep_prob, target_sequence_length, max_target_sequence_length, source_sequence_length = model_inputs()\n",
    "\n",
    "    #sequence_length = tf.placeholder_with_default(max_target_sentence_length, None, name='sequence_length')\n",
    "    input_shape = tf.shape(input_data)\n",
    "\n",
    "    train_logits, inference_logits = seq2seq_model(tf.reverse(input_data, [-1]),\n",
    "                                                   targets,\n",
    "                                                   keep_prob,\n",
    "                                                   batch_size,\n",
    "                                                   source_sequence_length,\n",
    "                                                   target_sequence_length,\n",
    "                                                   max_target_sequence_length,\n",
    "                                                   len(source_vocab_to_int),\n",
    "                                                   len(target_vocab_to_int),\n",
    "                                                   encoding_embedding_size,\n",
    "                                                   decoding_embedding_size,\n",
    "                                                   rnn_size,\n",
    "                                                   num_layers,\n",
    "                                                   target_vocab_to_int)\n",
    "\n",
    "\n",
    "    training_logits = tf.identity(train_logits.rnn_output, name='logits')\n",
    "    inference_logits = tf.identity(inference_logits.sample_id, name='predictions')\n",
    "\n",
    "    masks = tf.sequence_mask(target_sequence_length, max_target_sequence_length, dtype=tf.float32, name='masks')\n",
    "\n",
    "    with tf.name_scope(\"optimization\"):\n",
    "        # Loss function\n",
    "        cost = tf.contrib.seq2seq.sequence_loss(\n",
    "            training_logits,\n",
    "            targets,\n",
    "            masks)\n",
    "\n",
    "        # Optimizer\n",
    "        optimizer = tf.train.AdamOptimizer(lr)\n",
    "\n",
    "        # Gradient Clipping\n",
    "        gradients = optimizer.compute_gradients(cost)\n",
    "        capped_gradients = [(tf.clip_by_value(grad, -1., 1.), var) for grad, var in gradients if grad is not None]\n",
    "        train_op = optimizer.apply_gradients(capped_gradients)\n"
   ]
  },
  {
   "cell_type": "markdown",
   "metadata": {},
   "source": [
    "Batch and pad the source and target sequences"
   ]
  },
  {
   "cell_type": "code",
   "execution_count": 30,
   "metadata": {
    "collapsed": true
   },
   "outputs": [],
   "source": [
    "\"\"\"\n",
    "DON'T MODIFY ANYTHING IN THIS CELL\n",
    "\"\"\"\n",
    "def pad_sentence_batch(sentence_batch, pad_int):\n",
    "    \"\"\"Pad sentences with <PAD> so that each sentence of a batch has the same length\"\"\"\n",
    "    max_sentence = max([len(sentence) for sentence in sentence_batch])\n",
    "    return [sentence + [pad_int] * (max_sentence - len(sentence)) for sentence in sentence_batch]\n",
    "\n",
    "\n",
    "def get_batches(sources, targets, batch_size, source_pad_int, target_pad_int):\n",
    "    \"\"\"Batch targets, sources, and the lengths of their sentences together\"\"\"\n",
    "    for batch_i in range(0, len(sources)//batch_size):\n",
    "        start_i = batch_i * batch_size\n",
    "\n",
    "        # Slice the right amount for the batch\n",
    "        sources_batch = sources[start_i:start_i + batch_size]\n",
    "        targets_batch = targets[start_i:start_i + batch_size]\n",
    "\n",
    "        # Pad\n",
    "        pad_sources_batch = np.array(pad_sentence_batch(sources_batch, source_pad_int))\n",
    "        pad_targets_batch = np.array(pad_sentence_batch(targets_batch, target_pad_int))\n",
    "\n",
    "        # Need the lengths for the _lengths parameters\n",
    "        pad_targets_lengths = []\n",
    "        for target in pad_targets_batch:\n",
    "            pad_targets_lengths.append(len(target))\n",
    "\n",
    "        pad_source_lengths = []\n",
    "        for source in pad_sources_batch:\n",
    "            pad_source_lengths.append(len(source))\n",
    "\n",
    "        yield pad_sources_batch, pad_targets_batch, pad_source_lengths, pad_targets_lengths\n"
   ]
  },
  {
   "cell_type": "markdown",
   "metadata": {},
   "source": [
    "### Train\n",
    "Train the neural network on the preprocessed data. If you have a hard time getting a good loss, check the forms to see if anyone is having the same problem."
   ]
  },
  {
   "cell_type": "code",
   "execution_count": 31,
   "metadata": {
    "scrolled": true
   },
   "outputs": [
    {
     "name": "stdout",
     "output_type": "stream",
     "text": [
      "Epoch   0 Batch   30/1077 - Train Accuracy: 0.4082, Validation Accuracy: 0.4727, Loss: 2.4338\n",
      "Epoch   0 Batch   60/1077 - Train Accuracy: 0.4766, Validation Accuracy: 0.5256, Loss: 1.7992\n",
      "Epoch   0 Batch   90/1077 - Train Accuracy: 0.4785, Validation Accuracy: 0.5362, Loss: 1.2418\n",
      "Epoch   0 Batch  120/1077 - Train Accuracy: 0.5090, Validation Accuracy: 0.5487, Loss: 0.9129\n",
      "Epoch   0 Batch  150/1077 - Train Accuracy: 0.5796, Validation Accuracy: 0.5714, Loss: 0.7426\n",
      "Epoch   0 Batch  180/1077 - Train Accuracy: 0.5836, Validation Accuracy: 0.5852, Loss: 0.6975\n",
      "Epoch   0 Batch  210/1077 - Train Accuracy: 0.6157, Validation Accuracy: 0.6037, Loss: 0.6365\n",
      "Epoch   0 Batch  240/1077 - Train Accuracy: 0.6398, Validation Accuracy: 0.6222, Loss: 0.5985\n",
      "Epoch   0 Batch  270/1077 - Train Accuracy: 0.6211, Validation Accuracy: 0.6349, Loss: 0.5950\n",
      "Epoch   0 Batch  300/1077 - Train Accuracy: 0.6509, Validation Accuracy: 0.6516, Loss: 0.5331\n",
      "Epoch   0 Batch  330/1077 - Train Accuracy: 0.7023, Validation Accuracy: 0.6435, Loss: 0.4800\n",
      "Epoch   0 Batch  360/1077 - Train Accuracy: 0.6496, Validation Accuracy: 0.6559, Loss: 0.4558\n",
      "Epoch   0 Batch  390/1077 - Train Accuracy: 0.6578, Validation Accuracy: 0.6811, Loss: 0.4335\n",
      "Epoch   0 Batch  420/1077 - Train Accuracy: 0.7359, Validation Accuracy: 0.7148, Loss: 0.3581\n",
      "Epoch   0 Batch  450/1077 - Train Accuracy: 0.7270, Validation Accuracy: 0.6942, Loss: 0.3250\n",
      "Epoch   0 Batch  480/1077 - Train Accuracy: 0.7578, Validation Accuracy: 0.7063, Loss: 0.3039\n",
      "Epoch   0 Batch  510/1077 - Train Accuracy: 0.7262, Validation Accuracy: 0.7013, Loss: 0.2613\n",
      "Epoch   0 Batch  540/1077 - Train Accuracy: 0.7848, Validation Accuracy: 0.7294, Loss: 0.2297\n",
      "Epoch   0 Batch  570/1077 - Train Accuracy: 0.7689, Validation Accuracy: 0.7536, Loss: 0.2286\n",
      "Epoch   0 Batch  600/1077 - Train Accuracy: 0.8158, Validation Accuracy: 0.8018, Loss: 0.1904\n",
      "Epoch   0 Batch  630/1077 - Train Accuracy: 0.8625, Validation Accuracy: 0.7827, Loss: 0.1710\n",
      "Epoch   0 Batch  660/1077 - Train Accuracy: 0.8125, Validation Accuracy: 0.8157, Loss: 0.1667\n",
      "Epoch   0 Batch  690/1077 - Train Accuracy: 0.8883, Validation Accuracy: 0.8402, Loss: 0.1398\n",
      "Epoch   0 Batch  720/1077 - Train Accuracy: 0.8882, Validation Accuracy: 0.8729, Loss: 0.1363\n",
      "Epoch   0 Batch  750/1077 - Train Accuracy: 0.8652, Validation Accuracy: 0.8672, Loss: 0.1120\n",
      "Epoch   0 Batch  780/1077 - Train Accuracy: 0.8359, Validation Accuracy: 0.8814, Loss: 0.1267\n",
      "Epoch   0 Batch  810/1077 - Train Accuracy: 0.8836, Validation Accuracy: 0.8778, Loss: 0.0840\n",
      "Epoch   0 Batch  840/1077 - Train Accuracy: 0.8828, Validation Accuracy: 0.8945, Loss: 0.0788\n",
      "Epoch   0 Batch  870/1077 - Train Accuracy: 0.8549, Validation Accuracy: 0.8643, Loss: 0.0945\n",
      "Epoch   0 Batch  900/1077 - Train Accuracy: 0.9059, Validation Accuracy: 0.8938, Loss: 0.0964\n",
      "Epoch   0 Batch  930/1077 - Train Accuracy: 0.9207, Validation Accuracy: 0.8683, Loss: 0.0733\n",
      "Epoch   0 Batch  960/1077 - Train Accuracy: 0.8850, Validation Accuracy: 0.8654, Loss: 0.0787\n",
      "Epoch   0 Batch  990/1077 - Train Accuracy: 0.9293, Validation Accuracy: 0.8764, Loss: 0.0810\n",
      "Epoch   0 Batch 1020/1077 - Train Accuracy: 0.9227, Validation Accuracy: 0.9002, Loss: 0.0594\n",
      "Epoch   0 Batch 1050/1077 - Train Accuracy: 0.9281, Validation Accuracy: 0.8636, Loss: 0.0587\n",
      "Epoch   1 Batch   30/1077 - Train Accuracy: 0.9246, Validation Accuracy: 0.8988, Loss: 0.0594\n",
      "Epoch   1 Batch   60/1077 - Train Accuracy: 0.9487, Validation Accuracy: 0.9130, Loss: 0.0469\n",
      "Epoch   1 Batch   90/1077 - Train Accuracy: 0.9219, Validation Accuracy: 0.9062, Loss: 0.0677\n",
      "Epoch   1 Batch  120/1077 - Train Accuracy: 0.9113, Validation Accuracy: 0.9020, Loss: 0.0743\n",
      "Epoch   1 Batch  150/1077 - Train Accuracy: 0.9211, Validation Accuracy: 0.8913, Loss: 0.0691\n",
      "Epoch   1 Batch  180/1077 - Train Accuracy: 0.9523, Validation Accuracy: 0.9158, Loss: 0.0533\n",
      "Epoch   1 Batch  210/1077 - Train Accuracy: 0.9245, Validation Accuracy: 0.8991, Loss: 0.0578\n",
      "Epoch   1 Batch  240/1077 - Train Accuracy: 0.9598, Validation Accuracy: 0.9393, Loss: 0.0475\n",
      "Epoch   1 Batch  270/1077 - Train Accuracy: 0.9281, Validation Accuracy: 0.9272, Loss: 0.0605\n",
      "Epoch   1 Batch  300/1077 - Train Accuracy: 0.9507, Validation Accuracy: 0.9205, Loss: 0.0390\n",
      "Epoch   1 Batch  330/1077 - Train Accuracy: 0.9234, Validation Accuracy: 0.9038, Loss: 0.0541\n",
      "Epoch   1 Batch  360/1077 - Train Accuracy: 0.9570, Validation Accuracy: 0.9038, Loss: 0.0425\n",
      "Epoch   1 Batch  390/1077 - Train Accuracy: 0.8969, Validation Accuracy: 0.9233, Loss: 0.0613\n",
      "Epoch   1 Batch  420/1077 - Train Accuracy: 0.9758, Validation Accuracy: 0.9293, Loss: 0.0292\n",
      "Epoch   1 Batch  450/1077 - Train Accuracy: 0.9437, Validation Accuracy: 0.9169, Loss: 0.0452\n",
      "Epoch   1 Batch  480/1077 - Train Accuracy: 0.9400, Validation Accuracy: 0.9485, Loss: 0.0403\n",
      "Epoch   1 Batch  510/1077 - Train Accuracy: 0.9453, Validation Accuracy: 0.9315, Loss: 0.0495\n",
      "Epoch   1 Batch  540/1077 - Train Accuracy: 0.9441, Validation Accuracy: 0.9276, Loss: 0.0368\n",
      "Epoch   1 Batch  570/1077 - Train Accuracy: 0.9317, Validation Accuracy: 0.9364, Loss: 0.0534\n",
      "Epoch   1 Batch  600/1077 - Train Accuracy: 0.9505, Validation Accuracy: 0.9371, Loss: 0.0489\n",
      "Epoch   1 Batch  630/1077 - Train Accuracy: 0.9711, Validation Accuracy: 0.9371, Loss: 0.0377\n",
      "Epoch   1 Batch  660/1077 - Train Accuracy: 0.9723, Validation Accuracy: 0.9414, Loss: 0.0307\n",
      "Epoch   1 Batch  690/1077 - Train Accuracy: 0.9227, Validation Accuracy: 0.9517, Loss: 0.0417\n",
      "Epoch   1 Batch  720/1077 - Train Accuracy: 0.9494, Validation Accuracy: 0.9553, Loss: 0.0371\n",
      "Epoch   1 Batch  750/1077 - Train Accuracy: 0.9375, Validation Accuracy: 0.9446, Loss: 0.0352\n",
      "Epoch   1 Batch  780/1077 - Train Accuracy: 0.9082, Validation Accuracy: 0.9382, Loss: 0.0531\n",
      "Epoch   1 Batch  810/1077 - Train Accuracy: 0.9513, Validation Accuracy: 0.9474, Loss: 0.0265\n",
      "Epoch   1 Batch  840/1077 - Train Accuracy: 0.9551, Validation Accuracy: 0.9276, Loss: 0.0333\n",
      "Epoch   1 Batch  870/1077 - Train Accuracy: 0.9317, Validation Accuracy: 0.9375, Loss: 0.0432\n",
      "Epoch   1 Batch  900/1077 - Train Accuracy: 0.9660, Validation Accuracy: 0.9528, Loss: 0.0411\n",
      "Epoch   1 Batch  930/1077 - Train Accuracy: 0.9578, Validation Accuracy: 0.9606, Loss: 0.0287\n",
      "Epoch   1 Batch  960/1077 - Train Accuracy: 0.9702, Validation Accuracy: 0.9318, Loss: 0.0395\n",
      "Epoch   1 Batch  990/1077 - Train Accuracy: 0.9613, Validation Accuracy: 0.9379, Loss: 0.0397\n",
      "Epoch   1 Batch 1020/1077 - Train Accuracy: 0.9605, Validation Accuracy: 0.9805, Loss: 0.0292\n",
      "Epoch   1 Batch 1050/1077 - Train Accuracy: 0.9637, Validation Accuracy: 0.9364, Loss: 0.0291\n",
      "Epoch   2 Batch   30/1077 - Train Accuracy: 0.9668, Validation Accuracy: 0.9595, Loss: 0.0287\n",
      "Epoch   2 Batch   60/1077 - Train Accuracy: 0.9699, Validation Accuracy: 0.9450, Loss: 0.0246\n",
      "Epoch   2 Batch   90/1077 - Train Accuracy: 0.9453, Validation Accuracy: 0.9531, Loss: 0.0327\n",
      "Epoch   2 Batch  120/1077 - Train Accuracy: 0.9516, Validation Accuracy: 0.9499, Loss: 0.0346\n",
      "Epoch   2 Batch  150/1077 - Train Accuracy: 0.9632, Validation Accuracy: 0.9595, Loss: 0.0371\n",
      "Epoch   2 Batch  180/1077 - Train Accuracy: 0.9563, Validation Accuracy: 0.9503, Loss: 0.0281\n",
      "Epoch   2 Batch  210/1077 - Train Accuracy: 0.9420, Validation Accuracy: 0.9489, Loss: 0.0455\n",
      "Epoch   2 Batch  240/1077 - Train Accuracy: 0.9902, Validation Accuracy: 0.9627, Loss: 0.0313\n",
      "Epoch   2 Batch  270/1077 - Train Accuracy: 0.9496, Validation Accuracy: 0.9364, Loss: 0.0354\n",
      "Epoch   2 Batch  300/1077 - Train Accuracy: 0.9572, Validation Accuracy: 0.9357, Loss: 0.0263\n",
      "Epoch   2 Batch  330/1077 - Train Accuracy: 0.9355, Validation Accuracy: 0.9389, Loss: 0.0376\n",
      "Epoch   2 Batch  360/1077 - Train Accuracy: 0.9461, Validation Accuracy: 0.9439, Loss: 0.0266\n",
      "Epoch   2 Batch  390/1077 - Train Accuracy: 0.9437, Validation Accuracy: 0.9563, Loss: 0.0399\n",
      "Epoch   2 Batch  420/1077 - Train Accuracy: 0.9641, Validation Accuracy: 0.9609, Loss: 0.0232\n",
      "Epoch   2 Batch  450/1077 - Train Accuracy: 0.9637, Validation Accuracy: 0.9549, Loss: 0.0331\n",
      "Epoch   2 Batch  480/1077 - Train Accuracy: 0.9688, Validation Accuracy: 0.9524, Loss: 0.0354\n",
      "Epoch   2 Batch  510/1077 - Train Accuracy: 0.9367, Validation Accuracy: 0.9411, Loss: 0.0383\n",
      "Epoch   2 Batch  540/1077 - Train Accuracy: 0.9617, Validation Accuracy: 0.9553, Loss: 0.0313\n"
     ]
    },
    {
     "name": "stdout",
     "output_type": "stream",
     "text": [
      "Epoch   2 Batch  570/1077 - Train Accuracy: 0.9568, Validation Accuracy: 0.9549, Loss: 0.0387\n",
      "Epoch   2 Batch  600/1077 - Train Accuracy: 0.9468, Validation Accuracy: 0.9482, Loss: 0.0352\n",
      "Epoch   2 Batch  630/1077 - Train Accuracy: 0.9727, Validation Accuracy: 0.9602, Loss: 0.0306\n",
      "Epoch   2 Batch  660/1077 - Train Accuracy: 0.9820, Validation Accuracy: 0.9538, Loss: 0.0246\n",
      "Epoch   2 Batch  690/1077 - Train Accuracy: 0.9348, Validation Accuracy: 0.9570, Loss: 0.0353\n",
      "Epoch   2 Batch  720/1077 - Train Accuracy: 0.9696, Validation Accuracy: 0.9471, Loss: 0.0350\n",
      "Epoch   2 Batch  750/1077 - Train Accuracy: 0.9465, Validation Accuracy: 0.9506, Loss: 0.0298\n",
      "Epoch   2 Batch  780/1077 - Train Accuracy: 0.9426, Validation Accuracy: 0.9492, Loss: 0.0474\n",
      "Epoch   2 Batch  810/1077 - Train Accuracy: 0.9572, Validation Accuracy: 0.9521, Loss: 0.0254\n",
      "Epoch   2 Batch  840/1077 - Train Accuracy: 0.9570, Validation Accuracy: 0.9460, Loss: 0.0238\n",
      "Epoch   2 Batch  870/1077 - Train Accuracy: 0.9387, Validation Accuracy: 0.9531, Loss: 0.0365\n",
      "Epoch   2 Batch  900/1077 - Train Accuracy: 0.9668, Validation Accuracy: 0.9521, Loss: 0.0319\n",
      "Epoch   2 Batch  930/1077 - Train Accuracy: 0.9738, Validation Accuracy: 0.9549, Loss: 0.0203\n",
      "Epoch   2 Batch  960/1077 - Train Accuracy: 0.9684, Validation Accuracy: 0.9609, Loss: 0.0239\n",
      "Epoch   2 Batch  990/1077 - Train Accuracy: 0.9593, Validation Accuracy: 0.9457, Loss: 0.0326\n",
      "Epoch   2 Batch 1020/1077 - Train Accuracy: 0.9680, Validation Accuracy: 0.9432, Loss: 0.0283\n",
      "Epoch   2 Batch 1050/1077 - Train Accuracy: 0.9672, Validation Accuracy: 0.9528, Loss: 0.0253\n",
      "Epoch   3 Batch   30/1077 - Train Accuracy: 0.9719, Validation Accuracy: 0.9624, Loss: 0.0199\n",
      "Epoch   3 Batch   60/1077 - Train Accuracy: 0.9732, Validation Accuracy: 0.9474, Loss: 0.0232\n",
      "Epoch   3 Batch   90/1077 - Train Accuracy: 0.9699, Validation Accuracy: 0.9585, Loss: 0.0291\n",
      "Epoch   3 Batch  120/1077 - Train Accuracy: 0.9555, Validation Accuracy: 0.9624, Loss: 0.0291\n",
      "Epoch   3 Batch  150/1077 - Train Accuracy: 0.9661, Validation Accuracy: 0.9446, Loss: 0.0295\n",
      "Epoch   3 Batch  180/1077 - Train Accuracy: 0.9758, Validation Accuracy: 0.9545, Loss: 0.0272\n",
      "Epoch   3 Batch  210/1077 - Train Accuracy: 0.9710, Validation Accuracy: 0.9407, Loss: 0.0300\n",
      "Epoch   3 Batch  240/1077 - Train Accuracy: 0.9758, Validation Accuracy: 0.9549, Loss: 0.0306\n",
      "Epoch   3 Batch  270/1077 - Train Accuracy: 0.9504, Validation Accuracy: 0.9659, Loss: 0.0344\n",
      "Epoch   3 Batch  300/1077 - Train Accuracy: 0.9626, Validation Accuracy: 0.9517, Loss: 0.0278\n",
      "Epoch   3 Batch  330/1077 - Train Accuracy: 0.9641, Validation Accuracy: 0.9510, Loss: 0.0333\n",
      "Epoch   3 Batch  360/1077 - Train Accuracy: 0.9652, Validation Accuracy: 0.9478, Loss: 0.0189\n",
      "Epoch   3 Batch  390/1077 - Train Accuracy: 0.9316, Validation Accuracy: 0.9691, Loss: 0.0400\n",
      "Epoch   3 Batch  420/1077 - Train Accuracy: 0.9750, Validation Accuracy: 0.9492, Loss: 0.0172\n",
      "Epoch   3 Batch  450/1077 - Train Accuracy: 0.9621, Validation Accuracy: 0.9389, Loss: 0.0325\n",
      "Epoch   3 Batch  480/1077 - Train Accuracy: 0.9507, Validation Accuracy: 0.9648, Loss: 0.0280\n",
      "Epoch   3 Batch  510/1077 - Train Accuracy: 0.9492, Validation Accuracy: 0.9645, Loss: 0.0276\n",
      "Epoch   3 Batch  540/1077 - Train Accuracy: 0.9613, Validation Accuracy: 0.9627, Loss: 0.0251\n",
      "Epoch   3 Batch  570/1077 - Train Accuracy: 0.9371, Validation Accuracy: 0.9755, Loss: 0.0381\n",
      "Epoch   3 Batch  600/1077 - Train Accuracy: 0.9639, Validation Accuracy: 0.9691, Loss: 0.0300\n",
      "Epoch   3 Batch  630/1077 - Train Accuracy: 0.9719, Validation Accuracy: 0.9585, Loss: 0.0300\n",
      "Epoch   3 Batch  660/1077 - Train Accuracy: 0.9750, Validation Accuracy: 0.9673, Loss: 0.0257\n",
      "Epoch   3 Batch  690/1077 - Train Accuracy: 0.9316, Validation Accuracy: 0.9485, Loss: 0.0300\n",
      "Epoch   3 Batch  720/1077 - Train Accuracy: 0.9630, Validation Accuracy: 0.9659, Loss: 0.0258\n",
      "Epoch   3 Batch  750/1077 - Train Accuracy: 0.9590, Validation Accuracy: 0.9609, Loss: 0.0237\n",
      "Epoch   3 Batch  780/1077 - Train Accuracy: 0.9660, Validation Accuracy: 0.9712, Loss: 0.0302\n",
      "Epoch   3 Batch  810/1077 - Train Accuracy: 0.9650, Validation Accuracy: 0.9624, Loss: 0.0209\n",
      "Epoch   3 Batch  840/1077 - Train Accuracy: 0.9836, Validation Accuracy: 0.9645, Loss: 0.0188\n",
      "Epoch   3 Batch  870/1077 - Train Accuracy: 0.9297, Validation Accuracy: 0.9496, Loss: 0.0336\n",
      "Epoch   3 Batch  900/1077 - Train Accuracy: 0.9598, Validation Accuracy: 0.9734, Loss: 0.0286\n",
      "Epoch   3 Batch  930/1077 - Train Accuracy: 0.9641, Validation Accuracy: 0.9446, Loss: 0.0258\n",
      "Epoch   3 Batch  960/1077 - Train Accuracy: 0.9561, Validation Accuracy: 0.9759, Loss: 0.0300\n",
      "Epoch   3 Batch  990/1077 - Train Accuracy: 0.9572, Validation Accuracy: 0.9631, Loss: 0.0301\n",
      "Epoch   3 Batch 1020/1077 - Train Accuracy: 0.9594, Validation Accuracy: 0.9595, Loss: 0.0218\n",
      "Epoch   3 Batch 1050/1077 - Train Accuracy: 0.9879, Validation Accuracy: 0.9695, Loss: 0.0195\n",
      "Epoch   4 Batch   30/1077 - Train Accuracy: 0.9680, Validation Accuracy: 0.9599, Loss: 0.0190\n",
      "Epoch   4 Batch   60/1077 - Train Accuracy: 0.9840, Validation Accuracy: 0.9648, Loss: 0.0240\n",
      "Epoch   4 Batch   90/1077 - Train Accuracy: 0.9758, Validation Accuracy: 0.9513, Loss: 0.0268\n",
      "Epoch   4 Batch  120/1077 - Train Accuracy: 0.9625, Validation Accuracy: 0.9631, Loss: 0.0341\n",
      "Epoch   4 Batch  150/1077 - Train Accuracy: 0.9580, Validation Accuracy: 0.9577, Loss: 0.0269\n",
      "Epoch   4 Batch  180/1077 - Train Accuracy: 0.9762, Validation Accuracy: 0.9542, Loss: 0.0227\n",
      "Epoch   4 Batch  210/1077 - Train Accuracy: 0.9684, Validation Accuracy: 0.9478, Loss: 0.0311\n",
      "Epoch   4 Batch  240/1077 - Train Accuracy: 0.9824, Validation Accuracy: 0.9673, Loss: 0.0243\n",
      "Epoch   4 Batch  270/1077 - Train Accuracy: 0.9504, Validation Accuracy: 0.9663, Loss: 0.0312\n",
      "Epoch   4 Batch  300/1077 - Train Accuracy: 0.9712, Validation Accuracy: 0.9560, Loss: 0.0206\n",
      "Epoch   4 Batch  330/1077 - Train Accuracy: 0.9586, Validation Accuracy: 0.9581, Loss: 0.0309\n",
      "Epoch   4 Batch  360/1077 - Train Accuracy: 0.9609, Validation Accuracy: 0.9499, Loss: 0.0193\n",
      "Epoch   4 Batch  390/1077 - Train Accuracy: 0.9680, Validation Accuracy: 0.9616, Loss: 0.0332\n",
      "Epoch   4 Batch  420/1077 - Train Accuracy: 0.9727, Validation Accuracy: 0.9478, Loss: 0.0186\n",
      "Epoch   4 Batch  450/1077 - Train Accuracy: 0.9613, Validation Accuracy: 0.9375, Loss: 0.0315\n",
      "Epoch   4 Batch  480/1077 - Train Accuracy: 0.9576, Validation Accuracy: 0.9553, Loss: 0.0279\n",
      "Epoch   4 Batch  510/1077 - Train Accuracy: 0.9484, Validation Accuracy: 0.9599, Loss: 0.0300\n",
      "Epoch   4 Batch  540/1077 - Train Accuracy: 0.9676, Validation Accuracy: 0.9460, Loss: 0.0261\n",
      "Epoch   4 Batch  570/1077 - Train Accuracy: 0.9556, Validation Accuracy: 0.9723, Loss: 0.0346\n",
      "Epoch   4 Batch  600/1077 - Train Accuracy: 0.9714, Validation Accuracy: 0.9531, Loss: 0.0311\n",
      "Epoch   4 Batch  630/1077 - Train Accuracy: 0.9789, Validation Accuracy: 0.9673, Loss: 0.0309\n",
      "Epoch   4 Batch  660/1077 - Train Accuracy: 0.9875, Validation Accuracy: 0.9581, Loss: 0.0237\n",
      "Epoch   4 Batch  690/1077 - Train Accuracy: 0.9406, Validation Accuracy: 0.9595, Loss: 0.0350\n",
      "Epoch   4 Batch  720/1077 - Train Accuracy: 0.9716, Validation Accuracy: 0.9656, Loss: 0.0181\n",
      "Epoch   4 Batch  750/1077 - Train Accuracy: 0.9535, Validation Accuracy: 0.9638, Loss: 0.0236\n",
      "Epoch   4 Batch  780/1077 - Train Accuracy: 0.9609, Validation Accuracy: 0.9631, Loss: 0.0299\n",
      "Epoch   4 Batch  810/1077 - Train Accuracy: 0.9706, Validation Accuracy: 0.9627, Loss: 0.0244\n",
      "Epoch   4 Batch  840/1077 - Train Accuracy: 0.9770, Validation Accuracy: 0.9513, Loss: 0.0265\n",
      "Epoch   4 Batch  870/1077 - Train Accuracy: 0.9507, Validation Accuracy: 0.9602, Loss: 0.0234\n",
      "Epoch   4 Batch  900/1077 - Train Accuracy: 0.9715, Validation Accuracy: 0.9688, Loss: 0.0311\n",
      "Epoch   4 Batch  930/1077 - Train Accuracy: 0.9668, Validation Accuracy: 0.9609, Loss: 0.0291\n",
      "Epoch   4 Batch  960/1077 - Train Accuracy: 0.9661, Validation Accuracy: 0.9666, Loss: 0.0241\n",
      "Epoch   4 Batch  990/1077 - Train Accuracy: 0.9597, Validation Accuracy: 0.9524, Loss: 0.0277\n",
      "Epoch   4 Batch 1020/1077 - Train Accuracy: 0.9672, Validation Accuracy: 0.9712, Loss: 0.0214\n",
      "Epoch   4 Batch 1050/1077 - Train Accuracy: 0.9750, Validation Accuracy: 0.9638, Loss: 0.0177\n",
      "Model Trained and Saved\n"
     ]
    }
   ],
   "source": [
    "\"\"\"\n",
    "DON'T MODIFY ANYTHING IN THIS CELL\n",
    "\"\"\"\n",
    "def get_accuracy(target, logits):\n",
    "    \"\"\"\n",
    "    Calculate accuracy\n",
    "    \"\"\"\n",
    "    max_seq = max(target.shape[1], logits.shape[1])\n",
    "    if max_seq - target.shape[1]:\n",
    "        target = np.pad(\n",
    "            target,\n",
    "            [(0,0),(0,max_seq - target.shape[1])],\n",
    "            'constant')\n",
    "    if max_seq - logits.shape[1]:\n",
    "        logits = np.pad(\n",
    "            logits,\n",
    "            [(0,0),(0,max_seq - logits.shape[1])],\n",
    "            'constant')\n",
    "\n",
    "    return np.mean(np.equal(target, logits))\n",
    "\n",
    "# Split data to training and validation sets\n",
    "train_source = source_int_text[batch_size:]\n",
    "train_target = target_int_text[batch_size:]\n",
    "valid_source = source_int_text[:batch_size]\n",
    "valid_target = target_int_text[:batch_size]\n",
    "(valid_sources_batch, valid_targets_batch, valid_sources_lengths, valid_targets_lengths ) = next(get_batches(valid_source,\n",
    "                                                                                                             valid_target,\n",
    "                                                                                                             batch_size,\n",
    "                                                                                                             source_vocab_to_int['<PAD>'],\n",
    "                                                                                                             target_vocab_to_int['<PAD>']))                                                                                                  \n",
    "with tf.Session(graph=train_graph) as sess:\n",
    "    sess.run(tf.global_variables_initializer())\n",
    "\n",
    "    for epoch_i in range(epochs):\n",
    "        for batch_i, (source_batch, target_batch, sources_lengths, targets_lengths) in enumerate(\n",
    "                get_batches(train_source, train_target, batch_size,\n",
    "                            source_vocab_to_int['<PAD>'],\n",
    "                            target_vocab_to_int['<PAD>'])):\n",
    "\n",
    "            _, loss = sess.run(\n",
    "                [train_op, cost],\n",
    "                {input_data: source_batch,\n",
    "                 targets: target_batch,\n",
    "                 lr: learning_rate,\n",
    "                 target_sequence_length: targets_lengths,\n",
    "                 source_sequence_length: sources_lengths,\n",
    "                 keep_prob: keep_probability})\n",
    "\n",
    "\n",
    "            if batch_i % display_step == 0 and batch_i > 0:\n",
    "\n",
    "\n",
    "                batch_train_logits = sess.run(\n",
    "                    inference_logits,\n",
    "                    {input_data: source_batch,\n",
    "                     source_sequence_length: sources_lengths,\n",
    "                     target_sequence_length: targets_lengths,\n",
    "                     keep_prob: 1.0})\n",
    "\n",
    "\n",
    "                batch_valid_logits = sess.run(\n",
    "                    inference_logits,\n",
    "                    {input_data: valid_sources_batch,\n",
    "                     source_sequence_length: valid_sources_lengths,\n",
    "                     target_sequence_length: valid_targets_lengths,\n",
    "                     keep_prob: 1.0})\n",
    "\n",
    "                train_acc = get_accuracy(target_batch, batch_train_logits)\n",
    "\n",
    "                valid_acc = get_accuracy(valid_targets_batch, batch_valid_logits)\n",
    "\n",
    "                print('Epoch {:>3} Batch {:>4}/{} - Train Accuracy: {:>6.4f}, Validation Accuracy: {:>6.4f}, Loss: {:>6.4f}'\n",
    "                      .format(epoch_i, batch_i, len(source_int_text) // batch_size, train_acc, valid_acc, loss))\n",
    "\n",
    "    # Save Model\n",
    "    saver = tf.train.Saver()\n",
    "    saver.save(sess, save_path)\n",
    "    print('Model Trained and Saved')"
   ]
  },
  {
   "cell_type": "markdown",
   "metadata": {},
   "source": [
    "### Save Parameters\n",
    "Save the `batch_size` and `save_path` parameters for inference."
   ]
  },
  {
   "cell_type": "code",
   "execution_count": 32,
   "metadata": {
    "collapsed": true
   },
   "outputs": [],
   "source": [
    "\"\"\"\n",
    "DON'T MODIFY ANYTHING IN THIS CELL\n",
    "\"\"\"\n",
    "# Save parameters for checkpoint\n",
    "helper.save_params(save_path)"
   ]
  },
  {
   "cell_type": "markdown",
   "metadata": {},
   "source": [
    "# Checkpoint"
   ]
  },
  {
   "cell_type": "code",
   "execution_count": 35,
   "metadata": {
    "collapsed": true
   },
   "outputs": [],
   "source": [
    "\"\"\"\n",
    "DON'T MODIFY ANYTHING IN THIS CELL\n",
    "\"\"\"\n",
    "import tensorflow as tf\n",
    "import numpy as np\n",
    "import helper\n",
    "import problem_unittests as tests\n",
    "\n",
    "_, (source_vocab_to_int, target_vocab_to_int), (source_int_to_vocab, target_int_to_vocab) = helper.load_preprocess()\n",
    "load_path = helper.load_params()"
   ]
  },
  {
   "cell_type": "markdown",
   "metadata": {},
   "source": [
    "## Sentence to Sequence\n",
    "To feed a sentence into the model for translation, you first need to preprocess it.  Implement the function `sentence_to_seq()` to preprocess new sentences.\n",
    "\n",
    "- Convert the sentence to lowercase\n",
    "- Convert words into ids using `vocab_to_int`\n",
    " - Convert words not in the vocabulary, to the `<UNK>` word id."
   ]
  },
  {
   "cell_type": "code",
   "execution_count": 36,
   "metadata": {},
   "outputs": [
    {
     "name": "stdout",
     "output_type": "stream",
     "text": [
      "Tests Passed\n"
     ]
    }
   ],
   "source": [
    "def sentence_to_seq(sentence, vocab_to_int):\n",
    "    \"\"\"\n",
    "    Convert a sentence to a sequence of ids\n",
    "    :param sentence: String\n",
    "    :param vocab_to_int: Dictionary to go from the words to an id\n",
    "    :return: List of word ids\n",
    "    \"\"\"\n",
    "    lower_case = sentence.lower()\n",
    "    ids = [vocab_to_int[char] if char in vocab_to_int else vocab_to_int['<UNK>'] for char in lower_case.split()]\n",
    "    return ids\n",
    "\n",
    "\"\"\"\n",
    "DON'T MODIFY ANYTHING IN THIS CELL THAT IS BELOW THIS LINE\n",
    "\"\"\"\n",
    "tests.test_sentence_to_seq(sentence_to_seq)"
   ]
  },
  {
   "cell_type": "markdown",
   "metadata": {},
   "source": [
    "## Translate\n",
    "This will translate `translate_sentence` from English to French."
   ]
  },
  {
   "cell_type": "code",
   "execution_count": 37,
   "metadata": {},
   "outputs": [
    {
     "name": "stdout",
     "output_type": "stream",
     "text": [
      "INFO:tensorflow:Restoring parameters from checkpoints/dev\n",
      "Input\n",
      "  Word Ids:      [32, 90, 16, 189, 85, 219, 151]\n",
      "  English Words: ['he', 'saw', 'a', 'old', 'yellow', 'truck', '.']\n",
      "\n",
      "Prediction\n",
      "  Word Ids:      [108, 195, 102, 44, 267, 217, 184, 316, 1]\n",
      "  French Words: il a vu un vieux camion jaune . <EOS>\n"
     ]
    }
   ],
   "source": [
    "translate_sentence = 'he saw a old yellow truck .'\n",
    "\n",
    "\n",
    "\"\"\"\n",
    "DON'T MODIFY ANYTHING IN THIS CELL\n",
    "\"\"\"\n",
    "translate_sentence = sentence_to_seq(translate_sentence, source_vocab_to_int)\n",
    "\n",
    "loaded_graph = tf.Graph()\n",
    "with tf.Session(graph=loaded_graph) as sess:\n",
    "    # Load saved model\n",
    "    loader = tf.train.import_meta_graph(load_path + '.meta')\n",
    "    loader.restore(sess, load_path)\n",
    "\n",
    "    input_data = loaded_graph.get_tensor_by_name('input:0')\n",
    "    logits = loaded_graph.get_tensor_by_name('predictions:0')\n",
    "    target_sequence_length = loaded_graph.get_tensor_by_name('target_sequence_length:0')\n",
    "    source_sequence_length = loaded_graph.get_tensor_by_name('source_sequence_length:0')\n",
    "    keep_prob = loaded_graph.get_tensor_by_name('keep_prob:0')\n",
    "\n",
    "    translate_logits = sess.run(logits, {input_data: [translate_sentence]*batch_size,\n",
    "                                         target_sequence_length: [len(translate_sentence)*2]*batch_size,\n",
    "                                         source_sequence_length: [len(translate_sentence)]*batch_size,\n",
    "                                         keep_prob: 1.0})[0]\n",
    "\n",
    "print('Input')\n",
    "print('  Word Ids:      {}'.format([i for i in translate_sentence]))\n",
    "print('  English Words: {}'.format([source_int_to_vocab[i] for i in translate_sentence]))\n",
    "\n",
    "print('\\nPrediction')\n",
    "print('  Word Ids:      {}'.format([i for i in translate_logits]))\n",
    "print('  French Words: {}'.format(\" \".join([target_int_to_vocab[i] for i in translate_logits])))\n"
   ]
  },
  {
   "cell_type": "markdown",
   "metadata": {},
   "source": [
    "## Imperfect Translation\n",
    "You might notice that some sentences translate better than others.  Since the dataset you're using only has a vocabulary of 227 English words of the thousands that you use, you're only going to see good results using these words.  For this project, you don't need a perfect translation. However, if you want to create a better translation model, you'll need better data.\n",
    "\n",
    "You can train on the [WMT10 French-English corpus](http://www.statmt.org/wmt10/training-giga-fren.tar).  This dataset has more vocabulary and richer in topics discussed.  However, this will take you days to train, so make sure you've a GPU and the neural network is performing well on dataset we provided.  Just make sure you play with the WMT10 corpus after you've submitted this project.\n",
    "## Submitting This Project\n",
    "When submitting this project, make sure to run all the cells before saving the notebook. Save the notebook file as \"dlnd_language_translation.ipynb\" and save it as a HTML file under \"File\" -> \"Download as\". Include the \"helper.py\" and \"problem_unittests.py\" files in your submission."
   ]
  }
 ],
 "metadata": {
  "anaconda-cloud": {},
  "kernelspec": {
   "display_name": "Python 3",
   "language": "python",
   "name": "python3"
  },
  "language_info": {
   "codemirror_mode": {
    "name": "ipython",
    "version": 3
   },
   "file_extension": ".py",
   "mimetype": "text/x-python",
   "name": "python",
   "nbconvert_exporter": "python",
   "pygments_lexer": "ipython3",
   "version": "3.6.1"
  }
 },
 "nbformat": 4,
 "nbformat_minor": 1
}
